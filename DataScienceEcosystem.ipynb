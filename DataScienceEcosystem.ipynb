{
 "cells": [
  {
   "cell_type": "markdown",
   "id": "0551e114-9dc3-44a6-8780-6e9f92f4991b",
   "metadata": {},
   "source": [
    "# Data Science Tools and Ecosystem"
   ]
  },
  {
   "cell_type": "markdown",
   "id": "78351ebb-aab6-4845-aecd-61ec2f3aaa42",
   "metadata": {},
   "source": [
    "## Author\n",
    "Chris Solontio"
   ]
  },
  {
   "cell_type": "markdown",
   "id": "e1209598-a5d7-4ede-8c2d-65a958eab81e",
   "metadata": {},
   "source": [
    "## In this notebook, Data Science Tools and Ecosystem are summarized."
   ]
  },
  {
   "cell_type": "markdown",
   "id": "1e8d9d61-a398-4d75-bfeb-c0b8a67f0ec9",
   "metadata": {},
   "source": [
    "## **Objectives:** \n",
    "- Python\n",
    "- R\n",
    "- Java\n",
    "- C++\n",
    "- Scala"
   ]
  },
  {
   "cell_type": "markdown",
   "id": "4d445d5f-6ebd-4676-9bf5-2ad344764ce6",
   "metadata": {},
   "source": [
    "## Some of the popular languages that Data Scientists use are:\n",
    "1. Python\n",
    "2. R\n",
    "3. Java"
   ]
  },
  {
   "cell_type": "markdown",
   "id": "5d40df60-422f-42f7-a67e-d7a1e8f6a3d2",
   "metadata": {},
   "source": [
    "## Some of the commonly used libraries used by Data Scientists include:\n",
    "1. Pandas\n",
    "2. matplotlib\n",
    "3. scikit-learn"
   ]
  },
  {
   "cell_type": "markdown",
   "id": "b910de36-e4c1-40bd-9c58-d6d66e72d542",
   "metadata": {},
   "source": [
    "##  Data Science Tools:\n",
    "| Data Science Tool |\n",
    "| ----------------- |\n",
    "| Jupyter Notebook |\n",
    "| Jupyter Lab |\n",
    "| RStudio |"
   ]
  },
  {
   "cell_type": "markdown",
   "id": "2fc6683d-b35a-4949-ac39-18f7c612aa43",
   "metadata": {},
   "source": [
    "### Below are a few examples of evaluating arithmetic expressions in Python."
   ]
  },
  {
   "cell_type": "code",
   "execution_count": 1,
   "id": "7a6fa88a-c837-49f2-bd27-c9db2ef52d8c",
   "metadata": {},
   "outputs": [
    {
     "data": {
      "text/plain": [
       "17"
      ]
     },
     "execution_count": 1,
     "metadata": {},
     "output_type": "execute_result"
    }
   ],
   "source": [
    "# This a simple arithmetic expression to mutiply then add integers\n",
    "(3*4)+5"
   ]
  },
  {
   "cell_type": "code",
   "execution_count": 2,
   "id": "7a1f5bf7-10c5-49dd-b10d-0691e2f4f3e9",
   "metadata": {},
   "outputs": [
    {
     "data": {
      "text/plain": [
       "3.3333333333333335"
      ]
     },
     "execution_count": 2,
     "metadata": {},
     "output_type": "execute_result"
    }
   ],
   "source": [
    "# This will convert 200 minutes to hours by diving by 60\n",
    "200/60"
   ]
  },
  {
   "cell_type": "markdown",
   "id": "bc159686-80ed-4795-9c97-1316fc0aa505",
   "metadata": {},
   "source": []
  }
 ],
 "metadata": {
  "kernelspec": {
   "display_name": "Python 3 (ipykernel)",
   "language": "python",
   "name": "python3"
  },
  "language_info": {
   "codemirror_mode": {
    "name": "ipython",
    "version": 3
   },
   "file_extension": ".py",
   "mimetype": "text/x-python",
   "name": "python",
   "nbconvert_exporter": "python",
   "pygments_lexer": "ipython3",
   "version": "3.11.7"
  }
 },
 "nbformat": 4,
 "nbformat_minor": 5
}
